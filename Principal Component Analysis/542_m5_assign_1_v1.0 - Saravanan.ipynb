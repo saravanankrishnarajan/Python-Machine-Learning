{
 "cells": [
  {
   "cell_type": "code",
   "execution_count": null,
   "id": "4014d38a",
   "metadata": {},
   "outputs": [],
   "source": [
    "You will implement dimentionality reduction using PCA and fit Logistic Regression equation on the same, such that accuracy is modified"
   ]
  },
  {
   "cell_type": "code",
   "execution_count": null,
   "id": "aabafb42",
   "metadata": {},
   "outputs": [],
   "source": [
    "Understand and practice principal component analysis using scikit learn."
   ]
  },
  {
   "cell_type": "code",
   "execution_count": null,
   "id": "8100b46a",
   "metadata": {},
   "outputs": [],
   "source": [
    "1. Scikit learn comes with pre-loaded dataset, load the digits dataset from that collection and write a helper function to plot the image using matplotlib.\n",
    "[Hint: Explore datasets module from scikit learn]"
   ]
  },
  {
   "cell_type": "code",
   "execution_count": 15,
   "id": "689310d5",
   "metadata": {},
   "outputs": [
    {
     "data": {
      "text/plain": [
       "(1797, 64)"
      ]
     },
     "execution_count": 15,
     "metadata": {},
     "output_type": "execute_result"
    }
   ],
   "source": [
    "from sklearn.datasets import load_digits\n",
    "import pandas as pd\n",
    "\n",
    "dataset = load_digits()\n",
    "dataset.data.shape"
   ]
  },
  {
   "cell_type": "code",
   "execution_count": 16,
   "id": "0a6bb5b6",
   "metadata": {},
   "outputs": [
    {
     "data": {
      "text/plain": [
       "numpy.ndarray"
      ]
     },
     "execution_count": 16,
     "metadata": {},
     "output_type": "execute_result"
    }
   ],
   "source": [
    "type(dataset.data[0])"
   ]
  },
  {
   "cell_type": "code",
   "execution_count": 12,
   "id": "9be4436b",
   "metadata": {},
   "outputs": [
    {
     "data": {
      "text/plain": [
       "array([[ 0.,  0.,  5., 13.,  9.,  1.,  0.,  0.],\n",
       "       [ 0.,  0., 13., 15., 10., 15.,  5.,  0.],\n",
       "       [ 0.,  3., 15.,  2.,  0., 11.,  8.,  0.],\n",
       "       [ 0.,  4., 12.,  0.,  0.,  8.,  8.,  0.],\n",
       "       [ 0.,  5.,  8.,  0.,  0.,  9.,  8.,  0.],\n",
       "       [ 0.,  4., 11.,  0.,  1., 12.,  7.,  0.],\n",
       "       [ 0.,  2., 14.,  5., 10., 12.,  0.,  0.],\n",
       "       [ 0.,  0.,  6., 13., 10.,  0.,  0.,  0.]])"
      ]
     },
     "execution_count": 12,
     "metadata": {},
     "output_type": "execute_result"
    }
   ],
   "source": [
    "dataset.data[0].reshape(8,8)"
   ]
  },
  {
   "cell_type": "code",
   "execution_count": 25,
   "id": "5f737759",
   "metadata": {},
   "outputs": [
    {
     "data": {
      "text/plain": [
       "<Figure size 200x200 with 0 Axes>"
      ]
     },
     "metadata": {},
     "output_type": "display_data"
    },
    {
     "data": {
      "image/png": "[encoded data removed]",
      "text/plain": [
       "<Figure size 480x480 with 1 Axes>"
      ]
     },
     "metadata": {},
     "output_type": "display_data"
    },
    {
     "data": {
      "text/plain": [
       "<Figure size 200x200 with 0 Axes>"
      ]
     },
     "metadata": {},
     "output_type": "display_data"
    },
    {
     "data": {
      "image/png": "[encoded data removed]",
      "text/plain": [
       "<Figure size 480x480 with 1 Axes>"
      ]
     },
     "metadata": {},
     "output_type": "display_data"
    }
   ],
   "source": [
    "import matplotlib.pyplot as plt\n",
    "\n",
    "def plot_8x8(arr1):\n",
    "    #print(arr1)\n",
    "    arr1=arr1.reshape(8,8)\n",
    "    plt.gray()\n",
    "    plt.matshow(arr1)\n",
    "    \n",
    "plot_8x8(dataset.data[11])\n",
    "plot_8x8(dataset.data[15])"
   ]
  },
  {
   "cell_type": "code",
   "execution_count": null,
   "id": "cd32a7ba",
   "metadata": {},
   "outputs": [],
   "source": [
    "2. Make a train -test split with 20% of the data set aside for testing. Fit a logistic regression model and observe the accuracy."
   ]
  },
  {
   "cell_type": "code",
   "execution_count": 28,
   "id": "dfee7fdf",
   "metadata": {},
   "outputs": [
    {
     "data": {
      "text/plain": [
       "(1797, 64)"
      ]
     },
     "execution_count": 28,
     "metadata": {},
     "output_type": "execute_result"
    }
   ],
   "source": [
    "from sklearn.model_selection import train_test_split\n",
    "df = pd.DataFrame(dataset.data,columns=dataset.feature_names)\n",
    "df.shape"
   ]
  },
  {
   "cell_type": "code",
   "execution_count": 30,
   "id": "339ef052",
   "metadata": {},
   "outputs": [
    {
     "data": {
      "text/html": [
       "<div>\n",
       "<style scoped>\n",
       "    .dataframe tbody tr th:only-of-type {\n",
       "        vertical-align: middle;\n",
       "    }\n",
       "\n",
       "    .dataframe tbody tr th {\n",
       "        vertical-align: top;\n",
       "    }\n",
       "\n",
       "    .dataframe thead th {\n",
       "        text-align: right;\n",
       "    }\n",
       "</style>\n",
       "<table border=\"1\" class=\"dataframe\">\n",
       "  <thead>\n",
       "    <tr style=\"text-align: right;\">\n",
       "      <th></th>\n",
       "      <th>pixel_0_0</th>\n",
       "      <th>pixel_0_1</th>\n",
       "      <th>pixel_0_2</th>\n",
       "      <th>pixel_0_3</th>\n",
       "      <th>pixel_0_4</th>\n",
       "      <th>pixel_0_5</th>\n",
       "      <th>pixel_0_6</th>\n",
       "      <th>pixel_0_7</th>\n",
       "      <th>pixel_1_0</th>\n",
       "      <th>pixel_1_1</th>\n",
       "      <th>...</th>\n",
       "      <th>pixel_6_6</th>\n",
       "      <th>pixel_6_7</th>\n",
       "      <th>pixel_7_0</th>\n",
       "      <th>pixel_7_1</th>\n",
       "      <th>pixel_7_2</th>\n",
       "      <th>pixel_7_3</th>\n",
       "      <th>pixel_7_4</th>\n",
       "      <th>pixel_7_5</th>\n",
       "      <th>pixel_7_6</th>\n",
       "      <th>pixel_7_7</th>\n",
       "    </tr>\n",
       "  </thead>\n",
       "  <tbody>\n",
       "    <tr>\n",
       "      <th>0</th>\n",
       "      <td>0.0</td>\n",
       "      <td>0.0</td>\n",
       "      <td>5.0</td>\n",
       "      <td>13.0</td>\n",
       "      <td>9.0</td>\n",
       "      <td>1.0</td>\n",
       "      <td>0.0</td>\n",
       "      <td>0.0</td>\n",
       "      <td>0.0</td>\n",
       "      <td>0.0</td>\n",
       "      <td>...</td>\n",
       "      <td>0.0</td>\n",
       "      <td>0.0</td>\n",
       "      <td>0.0</td>\n",
       "      <td>0.0</td>\n",
       "      <td>6.0</td>\n",
       "      <td>13.0</td>\n",
       "      <td>10.0</td>\n",
       "      <td>0.0</td>\n",
       "      <td>0.0</td>\n",
       "      <td>0.0</td>\n",
       "    </tr>\n",
       "    <tr>\n",
       "      <th>1</th>\n",
       "      <td>0.0</td>\n",
       "      <td>0.0</td>\n",
       "      <td>0.0</td>\n",
       "      <td>12.0</td>\n",
       "      <td>13.0</td>\n",
       "      <td>5.0</td>\n",
       "      <td>0.0</td>\n",
       "      <td>0.0</td>\n",
       "      <td>0.0</td>\n",
       "      <td>0.0</td>\n",
       "      <td>...</td>\n",
       "      <td>0.0</td>\n",
       "      <td>0.0</td>\n",
       "      <td>0.0</td>\n",
       "      <td>0.0</td>\n",
       "      <td>0.0</td>\n",
       "      <td>11.0</td>\n",
       "      <td>16.0</td>\n",
       "      <td>10.0</td>\n",
       "      <td>0.0</td>\n",
       "      <td>0.0</td>\n",
       "    </tr>\n",
       "  </tbody>\n",
       "</table>\n",
       "<p>2 rows × 64 columns</p>\n",
       "</div>"
      ],
      "text/plain": [
       "   pixel_0_0  pixel_0_1  pixel_0_2  pixel_0_3  pixel_0_4  pixel_0_5  \\\n",
       "0        0.0        0.0        5.0       13.0        9.0        1.0   \n",
       "1        0.0        0.0        0.0       12.0       13.0        5.0   \n",
       "\n",
       "   pixel_0_6  pixel_0_7  pixel_1_0  pixel_1_1  ...  pixel_6_6  pixel_6_7  \\\n",
       "0        0.0        0.0        0.0        0.0  ...        0.0        0.0   \n",
       "1        0.0        0.0        0.0        0.0  ...        0.0        0.0   \n",
       "\n",
       "   pixel_7_0  pixel_7_1  pixel_7_2  pixel_7_3  pixel_7_4  pixel_7_5  \\\n",
       "0        0.0        0.0        6.0       13.0       10.0        0.0   \n",
       "1        0.0        0.0        0.0       11.0       16.0       10.0   \n",
       "\n",
       "   pixel_7_6  pixel_7_7  \n",
       "0        0.0        0.0  \n",
       "1        0.0        0.0  \n",
       "\n",
       "[2 rows x 64 columns]"
      ]
     },
     "execution_count": 30,
     "metadata": {},
     "output_type": "execute_result"
    }
   ],
   "source": [
    "df.head(2)"
   ]
  },
  {
   "cell_type": "code",
   "execution_count": 48,
   "id": "305d42fe",
   "metadata": {},
   "outputs": [
    {
     "data": {
      "text/plain": [
       "0.9611111111111111"
      ]
     },
     "execution_count": 48,
     "metadata": {},
     "output_type": "execute_result"
    }
   ],
   "source": [
    "import warnings\n",
    "warnings.filterwarnings('ignore')\n",
    "\n",
    "X_train,X_test,y_train,y_test = train_test_split(df,dataset.target,test_size=0.2)\n",
    "\n",
    "from sklearn.linear_model import LogisticRegression\n",
    "\n",
    "model1 = LogisticRegression()\n",
    "model1.fit(X_train,y_train)\n",
    "predictions = model1.predict(X_test)\n",
    "model1.score(X_test,y_test)\n"
   ]
  },
  {
   "cell_type": "code",
   "execution_count": null,
   "id": "4fbea783",
   "metadata": {},
   "outputs": [],
   "source": [
    "3. Using scikit learn perform a PCA transformation such that the transformed dataset can explain 95% of the variance in the original dataset. Find out the number of components in the projected subspace.\n",
    "[Hint: Refer to decomposition module of scikit learn]"
   ]
  },
  {
   "cell_type": "code",
   "execution_count": 49,
   "id": "ca4027bc",
   "metadata": {},
   "outputs": [
    {
     "data": {
      "text/plain": [
       "(1797, 29)"
      ]
     },
     "execution_count": 49,
     "metadata": {},
     "output_type": "execute_result"
    }
   ],
   "source": [
    "from sklearn.decomposition import PCA\n",
    "\n",
    "pca = PCA(0.95)\n",
    "X_pca = pca.fit_transform(df)\n",
    "X_pca.shape\n"
   ]
  },
  {
   "cell_type": "code",
   "execution_count": 45,
   "id": "fec039f9",
   "metadata": {},
   "outputs": [
    {
     "data": {
      "text/plain": [
       "29"
      ]
     },
     "execution_count": 45,
     "metadata": {},
     "output_type": "execute_result"
    }
   ],
   "source": [
    "pca.n_components_"
   ]
  },
  {
   "cell_type": "code",
   "execution_count": null,
   "id": "c6b7fb9a",
   "metadata": {},
   "outputs": [],
   "source": [
    "4. Transform the dataset and fit a logistic regression and observe the accuracy. Compare it with the previous model and comment on the accuracy.\n",
    "[Hint: Project both the train and test samples to the new subspace]"
   ]
  },
  {
   "cell_type": "code",
   "execution_count": 50,
   "id": "4b202c20",
   "metadata": {},
   "outputs": [
    {
     "data": {
      "text/plain": [
       "0.9555555555555556"
      ]
     },
     "execution_count": 50,
     "metadata": {},
     "output_type": "execute_result"
    }
   ],
   "source": [
    "X_train2,X_test2,y_train2,y_test2 = train_test_split(X_pca,dataset.target,test_size=0.2)\n",
    "\n",
    "from sklearn.linear_model import LogisticRegression\n",
    "\n",
    "model2 = LogisticRegression()\n",
    "model2.fit(X_train2,y_train2)\n",
    "predictions2 = model2.predict(X_test2)\n",
    "model2.score(X_test2,y_test2)"
   ]
  },
  {
   "cell_type": "code",
   "execution_count": 51,
   "id": "0590c4fa",
   "metadata": {},
   "outputs": [
    {
     "name": "stdout",
     "output_type": "stream",
     "text": [
      "Score before PCA 0.9611111111111111\n",
      "Score using PCA 0.9555555555555556\n"
     ]
    }
   ],
   "source": [
    "print(\"Score before PCA\",model1.score(X_test,y_test))\n",
    "print(\"Score using PCA\",model2.score(X_test2,y_test2))"
   ]
  },
  {
   "cell_type": "code",
   "execution_count": null,
   "id": "3a9b5b14",
   "metadata": {},
   "outputs": [],
   "source": [
    "5. Compute the confusion matrix and count the number of instances that has gone wrong. For each of the wrong sample, plot the digit along with predicted and original label."
   ]
  },
  {
   "cell_type": "code",
   "execution_count": 58,
   "id": "7f921cf7",
   "metadata": {},
   "outputs": [
    {
     "name": "stdout",
     "output_type": "stream",
     "text": [
      "Plot from Confusion Matrix before and after PCA\n"
     ]
    },
    {
     "data": {
      "text/plain": [
       "<matplotlib.image.AxesImage at 0x25753debe50>"
      ]
     },
     "execution_count": 58,
     "metadata": {},
     "output_type": "execute_result"
    },
    {
     "data": {
      "text/plain": [
       "<Figure size 640x480 with 0 Axes>"
      ]
     },
     "metadata": {},
     "output_type": "display_data"
    },
    {
     "data": {
      "image/png": "[encoded data removed]",
      "text/plain": [
       "<Figure size 480x480 with 1 Axes>"
      ]
     },
     "metadata": {},
     "output_type": "display_data"
    },
    {
     "data": {
      "image/png": "[encoded data removed]",
      "text/plain": [
       "<Figure size 480x480 with 1 Axes>"
      ]
     },
     "metadata": {},
     "output_type": "display_data"
    }
   ],
   "source": [
    "from sklearn import metrics\n",
    "\n",
    "print(\"Plot from Confusion Matrix before and after PCA\")\n",
    "plt.gray()\n",
    "plt.matshow(metrics.confusion_matrix(y_test,predictions))\n",
    "plt.gray()\n",
    "plt.matshow(metrics.confusion_matrix(y_test2,predictions2))\n",
    "\n"
   ]
  },
  {
   "cell_type": "code",
   "execution_count": 59,
   "id": "2aa3763e",
   "metadata": {},
   "outputs": [
    {
     "name": "stdout",
     "output_type": "stream",
     "text": [
      "Confusion Matrix before PCA\n",
      "[[31  0  0  0  0  0  0  0  0  0]\n",
      " [ 0 29  0  1  0  0  0  0  2  0]\n",
      " [ 0  0 36  0  0  0  0  0  0  0]\n",
      " [ 0  0  0 36  0  1  0  0  0  2]\n",
      " [ 0  1  0  0 27  0  0  0  0  0]\n",
      " [ 0  0  0  0  0 42  0  1  0  1]\n",
      " [ 0  0  0  0  0  0 44  0  0  0]\n",
      " [ 0  0  0  0  1  0  0 36  0  0]\n",
      " [ 0  0  0  0  1  0  0  0 35  1]\n",
      " [ 0  0  0  0  0  0  0  0  2 30]]\n",
      "\n",
      "Confusion Matrix using PCA\n",
      "[[36  0  0  0  0  0  0  0  0  0]\n",
      " [ 1 30  0  1  0  0  0  0  1  1]\n",
      " [ 0  0 31  0  0  0  0  0  0  0]\n",
      " [ 0  0  0 35  0  1  0  0  2  0]\n",
      " [ 0  0  0  0 37  0  0  0  0  0]\n",
      " [ 0  0  0  0  0 47  0  0  0  1]\n",
      " [ 0  0  0  0  0  0 41  0  0  0]\n",
      " [ 0  0  0  0  1  1  0 28  0  1]\n",
      " [ 0  1  0  0  0  0  0  0 31  1]\n",
      " [ 0  0  0  0  0  1  0  0  2 28]]\n"
     ]
    }
   ],
   "source": [
    "print(\"Confusion Matrix before PCA\")\n",
    "print(metrics.confusion_matrix(y_test,predictions))\n",
    "print()\n",
    "print(\"Confusion Matrix using PCA\")\n",
    "print(metrics.confusion_matrix(y_test2,predictions2))\n"
   ]
  },
  {
   "cell_type": "code",
   "execution_count": null,
   "id": "b382449e",
   "metadata": {},
   "outputs": [],
   "source": []
  }
 ],
 "metadata": {
  "kernelspec": {
   "display_name": "Python 3 (ipykernel)",
   "language": "python",
   "name": "python3"
  },
  "language_info": {
   "codemirror_mode": {
    "name": "ipython",
    "version": 3
   },
   "file_extension": ".py",
   "mimetype": "text/x-python",
   "name": "python",
   "nbconvert_exporter": "python",
   "pygments_lexer": "ipython3",
   "version": "3.10.6"
  }
 },
 "nbformat": 4,
 "nbformat_minor": 5
}
