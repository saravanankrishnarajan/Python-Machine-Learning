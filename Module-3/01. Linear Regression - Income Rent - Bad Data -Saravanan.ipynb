{
 "cells": [
  {
   "cell_type": "code",
   "execution_count": 1,
   "id": "a54f7998",
   "metadata": {},
   "outputs": [
    {
     "data": {
      "text/plain": [
       "pandas.core.frame.DataFrame"
      ]
     },
     "execution_count": 1,
     "metadata": {},
     "output_type": "execute_result"
    }
   ],
   "source": [
    "import numpy as np\n",
    "import pandas as pd\n",
    "import seaborn as sns\n",
    "import matplotlib.pyplot as plt\n",
    "from sklearn import linear_model\n",
    "\n",
    "sns.set_style('ticks')\n",
    "\n",
    "#Reading data\n",
    "data = pd.read_csv('income-rent-bad.csv')\n",
    "type(data)"
   ]
  },
  {
   "cell_type": "code",
   "execution_count": 2,
   "id": "225b9651",
   "metadata": {},
   "outputs": [],
   "source": [
    "import warnings\n",
    "warnings.filterwarnings('ignore')"
   ]
  },
  {
   "cell_type": "code",
   "execution_count": 3,
   "id": "416b258f",
   "metadata": {},
   "outputs": [
    {
     "data": {
      "text/html": [
       "<div>\n",
       "<style scoped>\n",
       "    .dataframe tbody tr th:only-of-type {\n",
       "        vertical-align: middle;\n",
       "    }\n",
       "\n",
       "    .dataframe tbody tr th {\n",
       "        vertical-align: top;\n",
       "    }\n",
       "\n",
       "    .dataframe thead th {\n",
       "        text-align: right;\n",
       "    }\n",
       "</style>\n",
       "<table border=\"1\" class=\"dataframe\">\n",
       "  <thead>\n",
       "    <tr style=\"text-align: right;\">\n",
       "      <th></th>\n",
       "      <th>Income</th>\n",
       "      <th>Rent</th>\n",
       "    </tr>\n",
       "  </thead>\n",
       "  <tbody>\n",
       "    <tr>\n",
       "      <th>0</th>\n",
       "      <td>2300</td>\n",
       "      <td>950</td>\n",
       "    </tr>\n",
       "    <tr>\n",
       "      <th>1</th>\n",
       "      <td>1400</td>\n",
       "      <td>500</td>\n",
       "    </tr>\n",
       "    <tr>\n",
       "      <th>2</th>\n",
       "      <td>2400</td>\n",
       "      <td>1000</td>\n",
       "    </tr>\n",
       "    <tr>\n",
       "      <th>3</th>\n",
       "      <td>5250</td>\n",
       "      <td>1800</td>\n",
       "    </tr>\n",
       "    <tr>\n",
       "      <th>4</th>\n",
       "      <td>4375</td>\n",
       "      <td>1600</td>\n",
       "    </tr>\n",
       "    <tr>\n",
       "      <th>5</th>\n",
       "      <td>1800</td>\n",
       "      <td>600</td>\n",
       "    </tr>\n",
       "    <tr>\n",
       "      <th>6</th>\n",
       "      <td>1500</td>\n",
       "      <td>500</td>\n",
       "    </tr>\n",
       "    <tr>\n",
       "      <th>7</th>\n",
       "      <td>1600</td>\n",
       "      <td>600</td>\n",
       "    </tr>\n",
       "    <tr>\n",
       "      <th>8</th>\n",
       "      <td>4150</td>\n",
       "      <td>1800</td>\n",
       "    </tr>\n",
       "    <tr>\n",
       "      <th>9</th>\n",
       "      <td>4500</td>\n",
       "      <td>1750</td>\n",
       "    </tr>\n",
       "  </tbody>\n",
       "</table>\n",
       "</div>"
      ],
      "text/plain": [
       "   Income  Rent\n",
       "0    2300   950\n",
       "1    1400   500\n",
       "2    2400  1000\n",
       "3    5250  1800\n",
       "4    4375  1600\n",
       "5    1800   600\n",
       "6    1500   500\n",
       "7    1600   600\n",
       "8    4150  1800\n",
       "9    4500  1750"
      ]
     },
     "execution_count": 3,
     "metadata": {},
     "output_type": "execute_result"
    }
   ],
   "source": [
    "data"
   ]
  },
  {
   "cell_type": "code",
   "execution_count": 4,
   "id": "3bc689fa",
   "metadata": {},
   "outputs": [
    {
     "data": {
      "text/html": [
       "<div>\n",
       "<style scoped>\n",
       "    .dataframe tbody tr th:only-of-type {\n",
       "        vertical-align: middle;\n",
       "    }\n",
       "\n",
       "    .dataframe tbody tr th {\n",
       "        vertical-align: top;\n",
       "    }\n",
       "\n",
       "    .dataframe thead th {\n",
       "        text-align: right;\n",
       "    }\n",
       "</style>\n",
       "<table border=\"1\" class=\"dataframe\">\n",
       "  <thead>\n",
       "    <tr style=\"text-align: right;\">\n",
       "      <th></th>\n",
       "      <th>count</th>\n",
       "      <th>mean</th>\n",
       "      <th>std</th>\n",
       "      <th>min</th>\n",
       "      <th>25%</th>\n",
       "      <th>50%</th>\n",
       "      <th>75%</th>\n",
       "      <th>max</th>\n",
       "    </tr>\n",
       "  </thead>\n",
       "  <tbody>\n",
       "    <tr>\n",
       "      <th>Income</th>\n",
       "      <td>10.0</td>\n",
       "      <td>2927.5</td>\n",
       "      <td>1473.207480</td>\n",
       "      <td>1400.0</td>\n",
       "      <td>1650.0</td>\n",
       "      <td>2350.0</td>\n",
       "      <td>4318.75</td>\n",
       "      <td>5250.0</td>\n",
       "    </tr>\n",
       "    <tr>\n",
       "      <th>Rent</th>\n",
       "      <td>10.0</td>\n",
       "      <td>1110.0</td>\n",
       "      <td>568.037557</td>\n",
       "      <td>500.0</td>\n",
       "      <td>600.0</td>\n",
       "      <td>975.0</td>\n",
       "      <td>1712.50</td>\n",
       "      <td>1800.0</td>\n",
       "    </tr>\n",
       "  </tbody>\n",
       "</table>\n",
       "</div>"
      ],
      "text/plain": [
       "        count    mean          std     min     25%     50%      75%     max\n",
       "Income   10.0  2927.5  1473.207480  1400.0  1650.0  2350.0  4318.75  5250.0\n",
       "Rent     10.0  1110.0   568.037557   500.0   600.0   975.0  1712.50  1800.0"
      ]
     },
     "execution_count": 4,
     "metadata": {},
     "output_type": "execute_result"
    }
   ],
   "source": [
    "data.describe().T"
   ]
  },
  {
   "cell_type": "code",
   "execution_count": 5,
   "id": "36255b62",
   "metadata": {},
   "outputs": [],
   "source": [
    "x=data['Income'].values\n",
    "y=data['Rent'].values"
   ]
  },
  {
   "cell_type": "code",
   "execution_count": 6,
   "id": "e4819eed",
   "metadata": {},
   "outputs": [
    {
     "data": {
      "text/plain": [
       "array([2300, 1400, 2400, 5250, 4375, 1800, 1500, 1600, 4150, 4500],\n",
       "      dtype=int64)"
      ]
     },
     "execution_count": 6,
     "metadata": {},
     "output_type": "execute_result"
    }
   ],
   "source": [
    "x"
   ]
  },
  {
   "cell_type": "code",
   "execution_count": 7,
   "id": "90466b07",
   "metadata": {},
   "outputs": [
    {
     "data": {
      "text/plain": [
       "array([ 950,  500, 1000, 1800, 1600,  600,  500,  600, 1800, 1750],\n",
       "      dtype=int64)"
      ]
     },
     "execution_count": 7,
     "metadata": {},
     "output_type": "execute_result"
    }
   ],
   "source": [
    "y"
   ]
  },
  {
   "cell_type": "code",
   "execution_count": 8,
   "id": "eb7d0ede",
   "metadata": {},
   "outputs": [],
   "source": [
    "#Creating the Regression Model"
   ]
  },
  {
   "cell_type": "code",
   "execution_count": 9,
   "id": "6ea9a1de",
   "metadata": {},
   "outputs": [
    {
     "name": "stdout",
     "output_type": "stream",
     "text": [
      "Coefficient (slope - m) [[0.37755216]]\n",
      "Intercept in Model (c) [4.71604235]\n"
     ]
    }
   ],
   "source": [
    "# Create a model of Linear Regression\n",
    "model = linear_model.LinearRegression()\n",
    "\n",
    "# Fitting the model\n",
    "model.fit(data[['Income']],data[['Rent']])\n",
    "\n",
    "print(\"Coefficient (slope - m)\",model.coef_)\n",
    "print(\"Intercept in Model (c)\",model.intercept_)"
   ]
  },
  {
   "cell_type": "code",
   "execution_count": 10,
   "id": "d9e3ecb7",
   "metadata": {},
   "outputs": [],
   "source": [
    "predictions = model.predict(data[['Income']])"
   ]
  },
  {
   "cell_type": "code",
   "execution_count": 11,
   "id": "f0e1e8c9",
   "metadata": {},
   "outputs": [
    {
     "data": {
      "text/plain": [
       "array([[ 873.08601762],\n",
       "       [ 533.28907077],\n",
       "       [ 910.84123393],\n",
       "       [1986.86489894],\n",
       "       [1656.50675617],\n",
       "       [ 684.30993604],\n",
       "       [ 571.04428709],\n",
       "       [ 608.79950341],\n",
       "       [1571.55751946],\n",
       "       [1703.70077657]])"
      ]
     },
     "execution_count": 11,
     "metadata": {},
     "output_type": "execute_result"
    }
   ],
   "source": [
    "predictions"
   ]
  },
  {
   "cell_type": "code",
   "execution_count": 13,
   "id": "af3bf13d",
   "metadata": {},
   "outputs": [
    {
     "data": {
      "text/html": [
       "<div>\n",
       "<style scoped>\n",
       "    .dataframe tbody tr th:only-of-type {\n",
       "        vertical-align: middle;\n",
       "    }\n",
       "\n",
       "    .dataframe tbody tr th {\n",
       "        vertical-align: top;\n",
       "    }\n",
       "\n",
       "    .dataframe thead th {\n",
       "        text-align: right;\n",
       "    }\n",
       "</style>\n",
       "<table border=\"1\" class=\"dataframe\">\n",
       "  <thead>\n",
       "    <tr style=\"text-align: right;\">\n",
       "      <th></th>\n",
       "      <th>Income</th>\n",
       "      <th>Rent</th>\n",
       "      <th>Predictions</th>\n",
       "    </tr>\n",
       "  </thead>\n",
       "  <tbody>\n",
       "    <tr>\n",
       "      <th>0</th>\n",
       "      <td>2300</td>\n",
       "      <td>950</td>\n",
       "      <td>873.086018</td>\n",
       "    </tr>\n",
       "    <tr>\n",
       "      <th>1</th>\n",
       "      <td>1400</td>\n",
       "      <td>500</td>\n",
       "      <td>533.289071</td>\n",
       "    </tr>\n",
       "    <tr>\n",
       "      <th>2</th>\n",
       "      <td>2400</td>\n",
       "      <td>1000</td>\n",
       "      <td>910.841234</td>\n",
       "    </tr>\n",
       "    <tr>\n",
       "      <th>3</th>\n",
       "      <td>5250</td>\n",
       "      <td>1800</td>\n",
       "      <td>1986.864899</td>\n",
       "    </tr>\n",
       "    <tr>\n",
       "      <th>4</th>\n",
       "      <td>4375</td>\n",
       "      <td>1600</td>\n",
       "      <td>1656.506756</td>\n",
       "    </tr>\n",
       "    <tr>\n",
       "      <th>5</th>\n",
       "      <td>1800</td>\n",
       "      <td>600</td>\n",
       "      <td>684.309936</td>\n",
       "    </tr>\n",
       "    <tr>\n",
       "      <th>6</th>\n",
       "      <td>1500</td>\n",
       "      <td>500</td>\n",
       "      <td>571.044287</td>\n",
       "    </tr>\n",
       "    <tr>\n",
       "      <th>7</th>\n",
       "      <td>1600</td>\n",
       "      <td>600</td>\n",
       "      <td>608.799503</td>\n",
       "    </tr>\n",
       "    <tr>\n",
       "      <th>8</th>\n",
       "      <td>4150</td>\n",
       "      <td>1800</td>\n",
       "      <td>1571.557519</td>\n",
       "    </tr>\n",
       "    <tr>\n",
       "      <th>9</th>\n",
       "      <td>4500</td>\n",
       "      <td>1750</td>\n",
       "      <td>1703.700777</td>\n",
       "    </tr>\n",
       "  </tbody>\n",
       "</table>\n",
       "</div>"
      ],
      "text/plain": [
       "   Income  Rent  Predictions\n",
       "0    2300   950   873.086018\n",
       "1    1400   500   533.289071\n",
       "2    2400  1000   910.841234\n",
       "3    5250  1800  1986.864899\n",
       "4    4375  1600  1656.506756\n",
       "5    1800   600   684.309936\n",
       "6    1500   500   571.044287\n",
       "7    1600   600   608.799503\n",
       "8    4150  1800  1571.557519\n",
       "9    4500  1750  1703.700777"
      ]
     },
     "execution_count": 13,
     "metadata": {},
     "output_type": "execute_result"
    }
   ],
   "source": [
    "data['Predictions']= predictions\n",
    "data"
   ]
  },
  {
   "cell_type": "code",
   "execution_count": 24,
   "id": "15d9a6c2",
   "metadata": {},
   "outputs": [
    {
     "data": {
      "image/png": "[encoded data removed]",
      "text/plain": [
       "<Figure size 1000x1000 with 1 Axes>"
      ]
     },
     "metadata": {},
     "output_type": "display_data"
    }
   ],
   "source": [
    "x = data['Income']\n",
    "y = data['Rent']\n",
    "p = data['Predictions']\n",
    "\n",
    "plt.figure(figsize=(10,10))\n",
    "\n",
    "plt.scatter(x,y,label='x,y scatterplot')\n",
    "for i in range(len(x)):\n",
    "    text =''\n",
    "    text = str(x[i])+', '+str(y[i])\n",
    "    plt.annotate(text, (x[i],y[i]+10))\n",
    "    \n",
    "plt.plot(x,p,label='Regression line')\n",
    "plt.xlabel('Income')\n",
    "plt.ylabel('Rent')\n",
    "plt.title('Income v/s Rent')\n",
    "plt.legend(fontsize=11)\n",
    "plt.xticks(np.arange(1300,5500,100),rotation=90)\n",
    "plt.yticks(np.arange(450,2200,100))\n",
    "plt.grid()\n",
    "plt.show()"
   ]
  },
  {
   "cell_type": "code",
   "execution_count": 27,
   "id": "e9214a8a",
   "metadata": {},
   "outputs": [
    {
     "name": "stdout",
     "output_type": "stream",
     "text": [
      "R2;  0.9587991788081074\n"
     ]
    }
   ],
   "source": [
    "#How well the model can predict future data\n",
    "\n",
    "from sklearn.metrics import r2_score\n",
    "\n",
    "print(\"R2; \",r2_score(data[['Rent']],data[['Predictions']]))"
   ]
  },
  {
   "cell_type": "code",
   "execution_count": 28,
   "id": "b6a6ac59",
   "metadata": {},
   "outputs": [
    {
     "name": "stdout",
     "output_type": "stream",
     "text": [
      "MSE:  11964.718474125602\n"
     ]
    }
   ],
   "source": [
    "from sklearn import metrics\n",
    "print(\"MSE: \",metrics.mean_squared_error(data[['Rent']],data[['Predictions']]))"
   ]
  },
  {
   "cell_type": "code",
   "execution_count": 29,
   "id": "a0f63334",
   "metadata": {},
   "outputs": [
    {
     "name": "stdout",
     "output_type": "stream",
     "text": [
      "RMSE:  109.38335556256081\n"
     ]
    }
   ],
   "source": [
    "print(\"RMSE: \",np.sqrt(metrics.mean_squared_error(data[['Rent']],data[['Predictions']])))"
   ]
  },
  {
   "cell_type": "code",
   "execution_count": 31,
   "id": "70bb18db",
   "metadata": {},
   "outputs": [
    {
     "data": {
      "text/plain": [
       "array([[571.04428709]])"
      ]
     },
     "execution_count": 31,
     "metadata": {},
     "output_type": "execute_result"
    }
   ],
   "source": [
    "model.predict([[1500]])"
   ]
  },
  {
   "cell_type": "code",
   "execution_count": null,
   "id": "c637744a",
   "metadata": {},
   "outputs": [],
   "source": []
  }
 ],
 "metadata": {
  "kernelspec": {
   "display_name": "Python 3 (ipykernel)",
   "language": "python",
   "name": "python3"
  },
  "language_info": {
   "codemirror_mode": {
    "name": "ipython",
    "version": 3
   },
   "file_extension": ".py",
   "mimetype": "text/x-python",
   "name": "python",
   "nbconvert_exporter": "python",
   "pygments_lexer": "ipython3",
   "version": "3.10.6"
  }
 },
 "nbformat": 4,
 "nbformat_minor": 5
}
