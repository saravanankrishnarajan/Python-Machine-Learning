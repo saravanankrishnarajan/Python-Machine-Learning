{
 "cells": [
  {
   "cell_type": "code",
   "execution_count": null,
   "id": "4ccf9d27",
   "metadata": {},
   "outputs": [],
   "source": [
    "Case Study\n",
    "Objective:\n",
    "• Understand and practice linear discriminant analysis using scikit learn."
   ]
  },
  {
   "cell_type": "code",
   "execution_count": 1,
   "id": "4e16ea39",
   "metadata": {},
   "outputs": [],
   "source": [
    "import warnings\n",
    "warnings.filterwarnings('ignore')"
   ]
  },
  {
   "cell_type": "markdown",
   "id": "e5a43ddc",
   "metadata": {},
   "source": [
    "1. We shall use the same dataset used in previous assignment - digits. Make a 80-20 train/test split.\n",
    "[Hint: Explore datasets module from scikit learn]"
   ]
  },
  {
   "cell_type": "code",
   "execution_count": 2,
   "id": "1727bad2",
   "metadata": {},
   "outputs": [
    {
     "data": {
      "text/plain": [
       "(1797, 64)"
      ]
     },
     "execution_count": 2,
     "metadata": {},
     "output_type": "execute_result"
    }
   ],
   "source": [
    "from sklearn.datasets import load_digits\n",
    "import pandas as pd\n",
    "\n",
    "dataset = load_digits()\n",
    "dataset.data.shape\n"
   ]
  },
  {
   "cell_type": "code",
   "execution_count": 3,
   "id": "0fa68210",
   "metadata": {},
   "outputs": [
    {
     "data": {
      "text/plain": [
       "(1797, 64)"
      ]
     },
     "execution_count": 3,
     "metadata": {},
     "output_type": "execute_result"
    }
   ],
   "source": [
    "df = pd.DataFrame(dataset.data,columns=dataset.feature_names)\n",
    "df.shape"
   ]
  },
  {
   "cell_type": "code",
   "execution_count": 5,
   "id": "76b057e0",
   "metadata": {},
   "outputs": [],
   "source": [
    "from sklearn.model_selection import train_test_split\n",
    "#X_train,X_test,y_train,y_test = train_test_split(df,dataset.target,test_size=0.2)"
   ]
  },
  {
   "cell_type": "markdown",
   "id": "2adf1e0c",
   "metadata": {},
   "source": [
    "2. Using scikit learn perform a LDA on the dataset. Find out the number of components in the projected subspace.\n",
    "[Hint: Refer to discriminant analysis module of scikit learn]"
   ]
  },
  {
   "cell_type": "code",
   "execution_count": 28,
   "id": "3c2a8ce6",
   "metadata": {},
   "outputs": [
    {
     "name": "stdout",
     "output_type": "stream",
     "text": [
      "Shape (1797, 29)\n",
      "Score is: 0.9472222222222222\n"
     ]
    },
    {
     "data": {
      "text/plain": [
       "{'copy': True,\n",
       " 'iterated_power': 'auto',\n",
       " 'n_components': 0.95,\n",
       " 'n_oversamples': 10,\n",
       " 'power_iteration_normalizer': 'auto',\n",
       " 'random_state': None,\n",
       " 'svd_solver': 'auto',\n",
       " 'tol': 0.0,\n",
       " 'whiten': False}"
      ]
     },
     "execution_count": 28,
     "metadata": {},
     "output_type": "execute_result"
    }
   ],
   "source": [
    "from sklearn.decomposition import PCA\n",
    "from sklearn.discriminant_analysis import LinearDiscriminantAnalysis\n",
    "from sklearn import metrics\n",
    "\n",
    "pca = PCA(0.95)\n",
    "X_pca = pca.fit_transform(df)\n",
    "print(\"Shape\",X_pca.shape)\n",
    "\n",
    "X_train1,X_test1,y_train1,y_test1 = train_test_split(X_pca,dataset.target,test_size=0.2)\n",
    "\n",
    "from sklearn.linear_model import LogisticRegression\n",
    "\n",
    "PCA_model = LogisticRegression()\n",
    "PCA_model.fit(X_train1,y_train1)\n",
    "predictions1 = PCA_model.predict(X_test1)\n",
    "print(\"Score is:\",PCA_model.score(X_test1,y_test1))\n",
    "\n",
    "pca.get_params()"
   ]
  },
  {
   "cell_type": "code",
   "execution_count": null,
   "id": "9623745d",
   "metadata": {},
   "outputs": [],
   "source": []
  },
  {
   "cell_type": "code",
   "execution_count": 31,
   "id": "256b403c",
   "metadata": {},
   "outputs": [
    {
     "name": "stdout",
     "output_type": "stream",
     "text": [
      "New transform has no of components: 9\n",
      "Score is: 0.9611111111111111\n",
      "(1797, 9)\n",
      "(1797, 64)\n"
     ]
    }
   ],
   "source": [
    "from sklearn.decomposition import PCA\n",
    "from sklearn.discriminant_analysis import LinearDiscriminantAnalysis\n",
    "\n",
    "lda = LinearDiscriminantAnalysis()\n",
    "X_lda = lda.fit(df,dataset.target).transform(df)\n",
    "print(\"New transform has no of components:\",X_lda.shape[1])\n"
   ]
  },
  {
   "cell_type": "markdown",
   "id": "7c326304",
   "metadata": {},
   "source": [
    "3. Transform the dataset and fit a logistic regression and observe the accuracy. Compare it with the previous model based on PCA in terms of accuracy and model complexity.\n",
    "[Hint: Project both the train and test samples to the new subspace]"
   ]
  },
  {
   "cell_type": "markdown",
   "id": "4c767877",
   "metadata": {},
   "source": [
    "### PCA Model"
   ]
  },
  {
   "cell_type": "code",
   "execution_count": 39,
   "id": "6ed1694b",
   "metadata": {},
   "outputs": [
    {
     "name": "stdout",
     "output_type": "stream",
     "text": [
      "Shape (1797, 29)\n",
      "PCA model has accuracy score as: 0.9555555555555556\n",
      "No of omponents used by PCA is 29\n"
     ]
    }
   ],
   "source": [
    "from sklearn.decomposition import PCA\n",
    "from sklearn import metrics\n",
    "\n",
    "pca = PCA(0.95)\n",
    "X_pca = pca.fit_transform(df)\n",
    "#print(\"Shape\",X_pca.shape)\n",
    "\n",
    "X_train1,X_test1,y_train1,y_test1 = train_test_split(X_pca,dataset.target,test_size=0.2)\n",
    "\n",
    "from sklearn.linear_model import LogisticRegression\n",
    "\n",
    "PCA_model = LogisticRegression()\n",
    "PCA_model.fit(X_train1,y_train1)\n",
    "predictions1 = PCA_model.predict(X_test1)\n",
    "#print(\"Score is:\",PCA_model.score(X_test1,y_test1))\n",
    "\n",
    "pca.get_params()\n",
    "\n",
    "print(\"PCA model has accuracy score as:\",PCA_model.score(X_test1,y_test1))\n",
    "print(\"No of omponents used by PCA is\",pca.n_components_)"
   ]
  },
  {
   "cell_type": "markdown",
   "id": "90a0c60d",
   "metadata": {},
   "source": [
    "### LDA Model"
   ]
  },
  {
   "cell_type": "code",
   "execution_count": 41,
   "id": "6232e07e",
   "metadata": {},
   "outputs": [
    {
     "name": "stdout",
     "output_type": "stream",
     "text": [
      "LDA model has accuracy score as: 0.9444444444444444\n",
      "No of omponents used by LDA is 9\n"
     ]
    }
   ],
   "source": [
    "from sklearn.decomposition import PCA\n",
    "from sklearn.discriminant_analysis import LinearDiscriminantAnalysis\n",
    "\n",
    "lda = LinearDiscriminantAnalysis()\n",
    "X_lda = lda.fit(df,dataset.target).transform(df)\n",
    "#print(\"New transform has no of components:\",X_lda.shape[1])\n",
    "\n",
    "X_train2,X_test2,y_train2,y_test2 = train_test_split(X_lda,dataset.target,test_size=0.2)\n",
    "\n",
    "from sklearn.linear_model import LogisticRegression\n",
    "\n",
    "LDA_model = LogisticRegression()\n",
    "LDA_model.fit(X_train2,y_train2)\n",
    "predictions1 = LDA_model.predict(X_test2)\n",
    "#print(\"Score is:\",LDA_model.score(X_test2,y_test2))\n",
    "\n",
    "#print(X_lda.shape)\n",
    "#print(df.shape)\n",
    "\n",
    "print(\"LDA model has accuracy score as:\",LDA_model.score(X_test2,y_test2))\n",
    "print(\"No of omponents used by LDA is\",X_lda.shape[1])"
   ]
  },
  {
   "cell_type": "code",
   "execution_count": null,
   "id": "36644286",
   "metadata": {},
   "outputs": [],
   "source": []
  }
 ],
 "metadata": {
  "kernelspec": {
   "display_name": "Python 3 (ipykernel)",
   "language": "python",
   "name": "python3"
  },
  "language_info": {
   "codemirror_mode": {
    "name": "ipython",
    "version": 3
   },
   "file_extension": ".py",
   "mimetype": "text/x-python",
   "name": "python",
   "nbconvert_exporter": "python",
   "pygments_lexer": "ipython3",
   "version": "3.10.6"
  }
 },
 "nbformat": 4,
 "nbformat_minor": 5
}
