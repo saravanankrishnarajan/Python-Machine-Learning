{
 "cells": [
  {
   "cell_type": "code",
   "execution_count": 1,
   "id": "c925ae07",
   "metadata": {},
   "outputs": [],
   "source": [
    "import warnings\n",
    "warnings.filterwarnings('ignore')"
   ]
  },
  {
   "cell_type": "code",
   "execution_count": 3,
   "id": "aeaac70a",
   "metadata": {},
   "outputs": [
    {
     "data": {
      "text/plain": [
       "(26137, 22)"
      ]
     },
     "execution_count": 3,
     "metadata": {},
     "output_type": "execute_result"
    }
   ],
   "source": [
    "import numpy as np\n",
    "import pandas as pd\n",
    "from sklearn.tree import DecisionTreeClassifier\n",
    "from sklearn.metrics import confusion_matrix\n",
    "from sklearn import metrics\n",
    "\n",
    "\n",
    "data = pd.read_csv('pacific.csv')\n",
    "data.shape"
   ]
  },
  {
   "cell_type": "code",
   "execution_count": 4,
   "id": "efbeecec",
   "metadata": {},
   "outputs": [
    {
     "data": {
      "text/html": [
       "<div>\n",
       "<style scoped>\n",
       "    .dataframe tbody tr th:only-of-type {\n",
       "        vertical-align: middle;\n",
       "    }\n",
       "\n",
       "    .dataframe tbody tr th {\n",
       "        vertical-align: top;\n",
       "    }\n",
       "\n",
       "    .dataframe thead th {\n",
       "        text-align: right;\n",
       "    }\n",
       "</style>\n",
       "<table border=\"1\" class=\"dataframe\">\n",
       "  <thead>\n",
       "    <tr style=\"text-align: right;\">\n",
       "      <th></th>\n",
       "      <th>ID</th>\n",
       "      <th>Name</th>\n",
       "      <th>Date</th>\n",
       "      <th>Time</th>\n",
       "      <th>Event</th>\n",
       "      <th>Status</th>\n",
       "      <th>Latitude</th>\n",
       "      <th>Longitude</th>\n",
       "      <th>Maximum Wind</th>\n",
       "      <th>Minimum Pressure</th>\n",
       "      <th>...</th>\n",
       "      <th>Low Wind SW</th>\n",
       "      <th>Low Wind NW</th>\n",
       "      <th>Moderate Wind NE</th>\n",
       "      <th>Moderate Wind SE</th>\n",
       "      <th>Moderate Wind SW</th>\n",
       "      <th>Moderate Wind NW</th>\n",
       "      <th>High Wind NE</th>\n",
       "      <th>High Wind SE</th>\n",
       "      <th>High Wind SW</th>\n",
       "      <th>High Wind NW</th>\n",
       "    </tr>\n",
       "  </thead>\n",
       "  <tbody>\n",
       "    <tr>\n",
       "      <th>0</th>\n",
       "      <td>EP011949</td>\n",
       "      <td>UNNAMED</td>\n",
       "      <td>19490611</td>\n",
       "      <td>0</td>\n",
       "      <td></td>\n",
       "      <td>TS</td>\n",
       "      <td>20.2N</td>\n",
       "      <td>106.3W</td>\n",
       "      <td>45</td>\n",
       "      <td>-999</td>\n",
       "      <td>...</td>\n",
       "      <td>-999</td>\n",
       "      <td>-999</td>\n",
       "      <td>-999</td>\n",
       "      <td>-999</td>\n",
       "      <td>-999</td>\n",
       "      <td>-999</td>\n",
       "      <td>-999</td>\n",
       "      <td>-999</td>\n",
       "      <td>-999</td>\n",
       "      <td>-999</td>\n",
       "    </tr>\n",
       "    <tr>\n",
       "      <th>1</th>\n",
       "      <td>EP011949</td>\n",
       "      <td>UNNAMED</td>\n",
       "      <td>19490611</td>\n",
       "      <td>600</td>\n",
       "      <td></td>\n",
       "      <td>TS</td>\n",
       "      <td>20.2N</td>\n",
       "      <td>106.4W</td>\n",
       "      <td>45</td>\n",
       "      <td>-999</td>\n",
       "      <td>...</td>\n",
       "      <td>-999</td>\n",
       "      <td>-999</td>\n",
       "      <td>-999</td>\n",
       "      <td>-999</td>\n",
       "      <td>-999</td>\n",
       "      <td>-999</td>\n",
       "      <td>-999</td>\n",
       "      <td>-999</td>\n",
       "      <td>-999</td>\n",
       "      <td>-999</td>\n",
       "    </tr>\n",
       "    <tr>\n",
       "      <th>2</th>\n",
       "      <td>EP011949</td>\n",
       "      <td>UNNAMED</td>\n",
       "      <td>19490611</td>\n",
       "      <td>1200</td>\n",
       "      <td></td>\n",
       "      <td>TS</td>\n",
       "      <td>20.2N</td>\n",
       "      <td>106.7W</td>\n",
       "      <td>45</td>\n",
       "      <td>-999</td>\n",
       "      <td>...</td>\n",
       "      <td>-999</td>\n",
       "      <td>-999</td>\n",
       "      <td>-999</td>\n",
       "      <td>-999</td>\n",
       "      <td>-999</td>\n",
       "      <td>-999</td>\n",
       "      <td>-999</td>\n",
       "      <td>-999</td>\n",
       "      <td>-999</td>\n",
       "      <td>-999</td>\n",
       "    </tr>\n",
       "    <tr>\n",
       "      <th>3</th>\n",
       "      <td>EP011949</td>\n",
       "      <td>UNNAMED</td>\n",
       "      <td>19490611</td>\n",
       "      <td>1800</td>\n",
       "      <td></td>\n",
       "      <td>TS</td>\n",
       "      <td>20.3N</td>\n",
       "      <td>107.7W</td>\n",
       "      <td>45</td>\n",
       "      <td>-999</td>\n",
       "      <td>...</td>\n",
       "      <td>-999</td>\n",
       "      <td>-999</td>\n",
       "      <td>-999</td>\n",
       "      <td>-999</td>\n",
       "      <td>-999</td>\n",
       "      <td>-999</td>\n",
       "      <td>-999</td>\n",
       "      <td>-999</td>\n",
       "      <td>-999</td>\n",
       "      <td>-999</td>\n",
       "    </tr>\n",
       "    <tr>\n",
       "      <th>4</th>\n",
       "      <td>EP011949</td>\n",
       "      <td>UNNAMED</td>\n",
       "      <td>19490612</td>\n",
       "      <td>0</td>\n",
       "      <td></td>\n",
       "      <td>TS</td>\n",
       "      <td>20.4N</td>\n",
       "      <td>108.6W</td>\n",
       "      <td>45</td>\n",
       "      <td>-999</td>\n",
       "      <td>...</td>\n",
       "      <td>-999</td>\n",
       "      <td>-999</td>\n",
       "      <td>-999</td>\n",
       "      <td>-999</td>\n",
       "      <td>-999</td>\n",
       "      <td>-999</td>\n",
       "      <td>-999</td>\n",
       "      <td>-999</td>\n",
       "      <td>-999</td>\n",
       "      <td>-999</td>\n",
       "    </tr>\n",
       "    <tr>\n",
       "      <th>...</th>\n",
       "      <td>...</td>\n",
       "      <td>...</td>\n",
       "      <td>...</td>\n",
       "      <td>...</td>\n",
       "      <td>...</td>\n",
       "      <td>...</td>\n",
       "      <td>...</td>\n",
       "      <td>...</td>\n",
       "      <td>...</td>\n",
       "      <td>...</td>\n",
       "      <td>...</td>\n",
       "      <td>...</td>\n",
       "      <td>...</td>\n",
       "      <td>...</td>\n",
       "      <td>...</td>\n",
       "      <td>...</td>\n",
       "      <td>...</td>\n",
       "      <td>...</td>\n",
       "      <td>...</td>\n",
       "      <td>...</td>\n",
       "      <td>...</td>\n",
       "    </tr>\n",
       "    <tr>\n",
       "      <th>26132</th>\n",
       "      <td>EP222015</td>\n",
       "      <td>SANDRA</td>\n",
       "      <td>20151128</td>\n",
       "      <td>1200</td>\n",
       "      <td></td>\n",
       "      <td>LO</td>\n",
       "      <td>21.7N</td>\n",
       "      <td>109.0W</td>\n",
       "      <td>35</td>\n",
       "      <td>1002</td>\n",
       "      <td>...</td>\n",
       "      <td>0</td>\n",
       "      <td>0</td>\n",
       "      <td>0</td>\n",
       "      <td>0</td>\n",
       "      <td>0</td>\n",
       "      <td>0</td>\n",
       "      <td>0</td>\n",
       "      <td>0</td>\n",
       "      <td>0</td>\n",
       "      <td>0</td>\n",
       "    </tr>\n",
       "    <tr>\n",
       "      <th>26133</th>\n",
       "      <td>EP222015</td>\n",
       "      <td>SANDRA</td>\n",
       "      <td>20151128</td>\n",
       "      <td>1800</td>\n",
       "      <td></td>\n",
       "      <td>LO</td>\n",
       "      <td>22.4N</td>\n",
       "      <td>108.7W</td>\n",
       "      <td>30</td>\n",
       "      <td>1007</td>\n",
       "      <td>...</td>\n",
       "      <td>0</td>\n",
       "      <td>0</td>\n",
       "      <td>0</td>\n",
       "      <td>0</td>\n",
       "      <td>0</td>\n",
       "      <td>0</td>\n",
       "      <td>0</td>\n",
       "      <td>0</td>\n",
       "      <td>0</td>\n",
       "      <td>0</td>\n",
       "    </tr>\n",
       "    <tr>\n",
       "      <th>26134</th>\n",
       "      <td>EP222015</td>\n",
       "      <td>SANDRA</td>\n",
       "      <td>20151129</td>\n",
       "      <td>0</td>\n",
       "      <td></td>\n",
       "      <td>LO</td>\n",
       "      <td>23.1N</td>\n",
       "      <td>108.3W</td>\n",
       "      <td>30</td>\n",
       "      <td>1008</td>\n",
       "      <td>...</td>\n",
       "      <td>0</td>\n",
       "      <td>0</td>\n",
       "      <td>0</td>\n",
       "      <td>0</td>\n",
       "      <td>0</td>\n",
       "      <td>0</td>\n",
       "      <td>0</td>\n",
       "      <td>0</td>\n",
       "      <td>0</td>\n",
       "      <td>0</td>\n",
       "    </tr>\n",
       "    <tr>\n",
       "      <th>26135</th>\n",
       "      <td>EP222015</td>\n",
       "      <td>SANDRA</td>\n",
       "      <td>20151129</td>\n",
       "      <td>600</td>\n",
       "      <td></td>\n",
       "      <td>LO</td>\n",
       "      <td>23.5N</td>\n",
       "      <td>107.9W</td>\n",
       "      <td>25</td>\n",
       "      <td>1009</td>\n",
       "      <td>...</td>\n",
       "      <td>0</td>\n",
       "      <td>0</td>\n",
       "      <td>0</td>\n",
       "      <td>0</td>\n",
       "      <td>0</td>\n",
       "      <td>0</td>\n",
       "      <td>0</td>\n",
       "      <td>0</td>\n",
       "      <td>0</td>\n",
       "      <td>0</td>\n",
       "    </tr>\n",
       "    <tr>\n",
       "      <th>26136</th>\n",
       "      <td>EP222015</td>\n",
       "      <td>SANDRA</td>\n",
       "      <td>20151129</td>\n",
       "      <td>1200</td>\n",
       "      <td></td>\n",
       "      <td>LO</td>\n",
       "      <td>24.2N</td>\n",
       "      <td>107.7W</td>\n",
       "      <td>20</td>\n",
       "      <td>1010</td>\n",
       "      <td>...</td>\n",
       "      <td>0</td>\n",
       "      <td>0</td>\n",
       "      <td>0</td>\n",
       "      <td>0</td>\n",
       "      <td>0</td>\n",
       "      <td>0</td>\n",
       "      <td>0</td>\n",
       "      <td>0</td>\n",
       "      <td>0</td>\n",
       "      <td>0</td>\n",
       "    </tr>\n",
       "  </tbody>\n",
       "</table>\n",
       "<p>26137 rows × 22 columns</p>\n",
       "</div>"
      ],
      "text/plain": [
       "             ID                 Name      Date  Time Event Status Latitude  \\\n",
       "0      EP011949              UNNAMED  19490611     0           TS    20.2N   \n",
       "1      EP011949              UNNAMED  19490611   600           TS    20.2N   \n",
       "2      EP011949              UNNAMED  19490611  1200           TS    20.2N   \n",
       "3      EP011949              UNNAMED  19490611  1800           TS    20.3N   \n",
       "4      EP011949              UNNAMED  19490612     0           TS    20.4N   \n",
       "...         ...                  ...       ...   ...   ...    ...      ...   \n",
       "26132  EP222015               SANDRA  20151128  1200           LO    21.7N   \n",
       "26133  EP222015               SANDRA  20151128  1800           LO    22.4N   \n",
       "26134  EP222015               SANDRA  20151129     0           LO    23.1N   \n",
       "26135  EP222015               SANDRA  20151129   600           LO    23.5N   \n",
       "26136  EP222015               SANDRA  20151129  1200           LO    24.2N   \n",
       "\n",
       "      Longitude  Maximum Wind  Minimum Pressure  ...  Low Wind SW  \\\n",
       "0        106.3W            45              -999  ...         -999   \n",
       "1        106.4W            45              -999  ...         -999   \n",
       "2        106.7W            45              -999  ...         -999   \n",
       "3        107.7W            45              -999  ...         -999   \n",
       "4        108.6W            45              -999  ...         -999   \n",
       "...         ...           ...               ...  ...          ...   \n",
       "26132    109.0W            35              1002  ...            0   \n",
       "26133    108.7W            30              1007  ...            0   \n",
       "26134    108.3W            30              1008  ...            0   \n",
       "26135    107.9W            25              1009  ...            0   \n",
       "26136    107.7W            20              1010  ...            0   \n",
       "\n",
       "       Low Wind NW  Moderate Wind NE  Moderate Wind SE  Moderate Wind SW  \\\n",
       "0             -999              -999              -999              -999   \n",
       "1             -999              -999              -999              -999   \n",
       "2             -999              -999              -999              -999   \n",
       "3             -999              -999              -999              -999   \n",
       "4             -999              -999              -999              -999   \n",
       "...            ...               ...               ...               ...   \n",
       "26132            0                 0                 0                 0   \n",
       "26133            0                 0                 0                 0   \n",
       "26134            0                 0                 0                 0   \n",
       "26135            0                 0                 0                 0   \n",
       "26136            0                 0                 0                 0   \n",
       "\n",
       "       Moderate Wind NW  High Wind NE  High Wind SE  High Wind SW  \\\n",
       "0                  -999          -999          -999          -999   \n",
       "1                  -999          -999          -999          -999   \n",
       "2                  -999          -999          -999          -999   \n",
       "3                  -999          -999          -999          -999   \n",
       "4                  -999          -999          -999          -999   \n",
       "...                 ...           ...           ...           ...   \n",
       "26132                 0             0             0             0   \n",
       "26133                 0             0             0             0   \n",
       "26134                 0             0             0             0   \n",
       "26135                 0             0             0             0   \n",
       "26136                 0             0             0             0   \n",
       "\n",
       "       High Wind NW  \n",
       "0              -999  \n",
       "1              -999  \n",
       "2              -999  \n",
       "3              -999  \n",
       "4              -999  \n",
       "...             ...  \n",
       "26132             0  \n",
       "26133             0  \n",
       "26134             0  \n",
       "26135             0  \n",
       "26136             0  \n",
       "\n",
       "[26137 rows x 22 columns]"
      ]
     },
     "execution_count": 4,
     "metadata": {},
     "output_type": "execute_result"
    }
   ],
   "source": [
    "data"
   ]
  },
  {
   "cell_type": "code",
   "execution_count": 5,
   "id": "a5c52164",
   "metadata": {},
   "outputs": [
    {
     "data": {
      "text/plain": [
       "Index(['ID', 'Name', 'Date', 'Time', 'Event', 'Status', 'Latitude',\n",
       "       'Longitude', 'Maximum Wind', 'Minimum Pressure', 'Low Wind NE',\n",
       "       'Low Wind SE', 'Low Wind SW', 'Low Wind NW', 'Moderate Wind NE',\n",
       "       'Moderate Wind SE', 'Moderate Wind SW', 'Moderate Wind NW',\n",
       "       'High Wind NE', 'High Wind SE', 'High Wind SW', 'High Wind NW'],\n",
       "      dtype='object')"
      ]
     },
     "execution_count": 5,
     "metadata": {},
     "output_type": "execute_result"
    }
   ],
   "source": [
    "feature_cols = data.columns\n",
    "feature_cols"
   ]
  },
  {
   "cell_type": "code",
   "execution_count": 7,
   "id": "8b7d5ad5",
   "metadata": {},
   "outputs": [
    {
     "data": {
      "text/plain": [
       "Index(['Date', 'Time', 'Maximum Wind', 'Minimum Pressure', 'Low Wind NE',\n",
       "       'Low Wind SE', 'Low Wind SW', 'Low Wind NW', 'Moderate Wind NE',\n",
       "       'Moderate Wind SE', 'Moderate Wind SW', 'Moderate Wind NW',\n",
       "       'High Wind NE', 'High Wind SE', 'High Wind SW', 'High Wind NW'],\n",
       "      dtype='object')"
      ]
     },
     "execution_count": 7,
     "metadata": {},
     "output_type": "execute_result"
    }
   ],
   "source": [
    "feature_cols=feature_cols.drop(['ID', 'Name','Event', 'Status','Latitude','Longitude'])\n",
    "feature_cols"
   ]
  },
  {
   "cell_type": "code",
   "execution_count": 9,
   "id": "bc219086",
   "metadata": {},
   "outputs": [],
   "source": [
    "from sklearn.model_selection import train_test_split\n",
    "\n",
    "Train, Test = train_test_split(data,test_size=0.3)"
   ]
  },
  {
   "cell_type": "code",
   "execution_count": 10,
   "id": "88cbb72f",
   "metadata": {},
   "outputs": [],
   "source": [
    "X_Train = Train[feature_cols]\n",
    "X_Test = Test[feature_cols]\n",
    "\n",
    "y_Train = Train.Status\n",
    "y_Test = Test.Status"
   ]
  },
  {
   "cell_type": "code",
   "execution_count": 11,
   "id": "05814732",
   "metadata": {},
   "outputs": [],
   "source": [
    "model = DecisionTreeClassifier()\n",
    "model.fit(X_Train,y_Train)\n",
    "predictions=model.predict(X_Test)"
   ]
  },
  {
   "cell_type": "code",
   "execution_count": 22,
   "id": "cb0d3585",
   "metadata": {},
   "outputs": [
    {
     "data": {
      "text/plain": [
       "pandas.core.series.Series"
      ]
     },
     "execution_count": 22,
     "metadata": {},
     "output_type": "execute_result"
    }
   ],
   "source": [
    "type(y_Test)"
   ]
  },
  {
   "cell_type": "code",
   "execution_count": 23,
   "id": "b024ae54",
   "metadata": {},
   "outputs": [
    {
     "data": {
      "text/plain": [
       "numpy.ndarray"
      ]
     },
     "execution_count": 23,
     "metadata": {},
     "output_type": "execute_result"
    }
   ],
   "source": [
    "type(predictions)"
   ]
  },
  {
   "cell_type": "code",
   "execution_count": 26,
   "id": "bb5b04e4",
   "metadata": {},
   "outputs": [
    {
     "data": {
      "text/html": [
       "<div>\n",
       "<style scoped>\n",
       "    .dataframe tbody tr th:only-of-type {\n",
       "        vertical-align: middle;\n",
       "    }\n",
       "\n",
       "    .dataframe tbody tr th {\n",
       "        vertical-align: top;\n",
       "    }\n",
       "\n",
       "    .dataframe thead th {\n",
       "        text-align: right;\n",
       "    }\n",
       "</style>\n",
       "<table border=\"1\" class=\"dataframe\">\n",
       "  <thead>\n",
       "    <tr style=\"text-align: right;\">\n",
       "      <th></th>\n",
       "      <th>Status</th>\n",
       "      <th>Prediction</th>\n",
       "    </tr>\n",
       "  </thead>\n",
       "  <tbody>\n",
       "    <tr>\n",
       "      <th>7911</th>\n",
       "      <td>TD</td>\n",
       "      <td>TD</td>\n",
       "    </tr>\n",
       "    <tr>\n",
       "      <th>23325</th>\n",
       "      <td>HU</td>\n",
       "      <td>HU</td>\n",
       "    </tr>\n",
       "    <tr>\n",
       "      <th>9584</th>\n",
       "      <td>TS</td>\n",
       "      <td>TS</td>\n",
       "    </tr>\n",
       "    <tr>\n",
       "      <th>14663</th>\n",
       "      <td>HU</td>\n",
       "      <td>HU</td>\n",
       "    </tr>\n",
       "    <tr>\n",
       "      <th>24974</th>\n",
       "      <td>TS</td>\n",
       "      <td>TS</td>\n",
       "    </tr>\n",
       "    <tr>\n",
       "      <th>...</th>\n",
       "      <td>...</td>\n",
       "      <td>...</td>\n",
       "    </tr>\n",
       "    <tr>\n",
       "      <th>122</th>\n",
       "      <td>HU</td>\n",
       "      <td>HU</td>\n",
       "    </tr>\n",
       "    <tr>\n",
       "      <th>14545</th>\n",
       "      <td>HU</td>\n",
       "      <td>HU</td>\n",
       "    </tr>\n",
       "    <tr>\n",
       "      <th>3196</th>\n",
       "      <td>TS</td>\n",
       "      <td>TS</td>\n",
       "    </tr>\n",
       "    <tr>\n",
       "      <th>3052</th>\n",
       "      <td>HU</td>\n",
       "      <td>HU</td>\n",
       "    </tr>\n",
       "    <tr>\n",
       "      <th>21006</th>\n",
       "      <td>TS</td>\n",
       "      <td>TS</td>\n",
       "    </tr>\n",
       "  </tbody>\n",
       "</table>\n",
       "<p>7842 rows × 2 columns</p>\n",
       "</div>"
      ],
      "text/plain": [
       "      Status Prediction\n",
       "7911      TD         TD\n",
       "23325     HU         HU\n",
       "9584      TS         TS\n",
       "14663     HU         HU\n",
       "24974     TS         TS\n",
       "...      ...        ...\n",
       "122       HU         HU\n",
       "14545     HU         HU\n",
       "3196      TS         TS\n",
       "3052      HU         HU\n",
       "21006     TS         TS\n",
       "\n",
       "[7842 rows x 2 columns]"
      ]
     },
     "execution_count": 26,
     "metadata": {},
     "output_type": "execute_result"
    }
   ],
   "source": [
    "predDf =pd.DataFrame(y_Test)\n",
    "predDf['Prediction']=predictions\n",
    "predDf"
   ]
  },
  {
   "cell_type": "code",
   "execution_count": 27,
   "id": "cba8cb05",
   "metadata": {},
   "outputs": [
    {
     "data": {
      "text/plain": [
       "0.9674827850038256"
      ]
     },
     "execution_count": 27,
     "metadata": {},
     "output_type": "execute_result"
    }
   ],
   "source": [
    "metrics.accuracy_score(predDf['Prediction'],predDf['Status'])"
   ]
  },
  {
   "cell_type": "code",
   "execution_count": 28,
   "id": "a5157364",
   "metadata": {},
   "outputs": [],
   "source": [
    "prediction = model.predict([ ['20151130','1800','80','-999','-999','-999','-999','-999','-999','-999','-999','-999','-999','-999','-999','-999'] ])"
   ]
  },
  {
   "cell_type": "code",
   "execution_count": 29,
   "id": "e63f12b7",
   "metadata": {},
   "outputs": [
    {
     "name": "stdout",
     "output_type": "stream",
     "text": [
      "HU: Tropical cyclone of hurricane intensity (> 64 knots) is APPROACHING !!\n"
     ]
    }
   ],
   "source": [
    "if prediction == ' TD':\n",
    "    print(\"TD: Tropical cyclone of tropical depression intensity (< 34 knots) is APPROACHING !!\")\n",
    "elif prediction == ' TS':\n",
    "    print(\"TS: Tropical cyclone of tropical storm intensity (34-63 knots) is APPROACHING !!\")\n",
    "elif prediction == ' HU':\n",
    "    print(\"HU: Tropical cyclone of hurricane intensity (> 64 knots) is APPROACHING !!\")\n",
    "elif prediction == ' EX':\n",
    "    print(\"EX: Extratropical cyclone (of any intensity) is APPROACHING !!\")\n",
    "elif prediction == ' SD':\n",
    "    print(\"SD: Subtropical cyclone of subtropical depression intensity (< 34 knots) is APPROACHING !!\")\n",
    "elif prediction == ' SS':\n",
    "    print(\"SS: Subtropical cyclone of subtropical storm intensity (> 34 knots) is APPROACHING !!\")\n",
    "elif prediction == ' LO':\n",
    "    print(\"LO: A low that is neither a tropical cyclone, a subtropical cyclone, nor an extratropical cyclone (of any) is APPROACHING !!\")    "
   ]
  },
  {
   "cell_type": "code",
   "execution_count": 32,
   "id": "8e1c93f2",
   "metadata": {},
   "outputs": [
    {
     "data": {
      "text/plain": [
       "array([[  64,    0,    0,    0,    8,    0,    0,    0,    0,    3,    0],\n",
       "       [   0,   18,    0,    2,    0,    0,    0,    0,    0,   13,    7],\n",
       "       [   0,    0,   22,    4,    0,    0,    1,    0,    0,    5,    7],\n",
       "       [   0,    0,    2, 2114,    0,    0,    0,    0,    0,    0,    4],\n",
       "       [   7,    0,    0,    0,  456,    0,    0,    0,    0,   58,    5],\n",
       "       [   0,    0,    1,    0,    0,    1,    0,    0,    0,    0,    0],\n",
       "       [   0,    0,    0,    0,    0,    0,    1,    0,    0,    2,    0],\n",
       "       [   0,    0,    0,    0,    0,    0,    0,    1,    0,    0,    2],\n",
       "       [   0,    0,    0,    0,    0,    0,    0,    0,    4,    0,    0],\n",
       "       [   4,   22,    3,    0,   76,    0,    0,    0,    0, 1999,    0],\n",
       "       [   0,    4,    5,    0,   10,    0,    0,    0,    0,    0, 2907]],\n",
       "      dtype=int64)"
      ]
     },
     "execution_count": 32,
     "metadata": {},
     "output_type": "execute_result"
    }
   ],
   "source": [
    "metrics.confusion_matrix(predDf['Status'],predDf['Prediction'])"
   ]
  },
  {
   "cell_type": "code",
   "execution_count": 31,
   "id": "9a58423f",
   "metadata": {},
   "outputs": [
    {
     "data": {
      "text/plain": [
       "7842"
      ]
     },
     "execution_count": 31,
     "metadata": {},
     "output_type": "execute_result"
    }
   ],
   "source": [
    "metrics.confusion_matrix(predDf['Status'],predDf['Prediction']).sum()"
   ]
  },
  {
   "cell_type": "markdown",
   "id": "ae6e2e4a",
   "metadata": {},
   "source": [
    "## Logistic Regression"
   ]
  },
  {
   "cell_type": "code",
   "execution_count": 35,
   "id": "e31826fc",
   "metadata": {},
   "outputs": [
    {
     "data": {
      "text/plain": [
       "0.37311910226982914"
      ]
     },
     "execution_count": 35,
     "metadata": {},
     "output_type": "execute_result"
    }
   ],
   "source": [
    "from sklearn.linear_model import LogisticRegression\n",
    "\n",
    "model2= LogisticRegression()\n",
    "model2.fit(X_Train,y_Train)\n",
    "predictions2=model2.predict(X_Test)\n",
    "\n",
    "metrics.accuracy_score(y_Test,predictions2)"
   ]
  },
  {
   "cell_type": "code",
   "execution_count": 36,
   "id": "b47db318",
   "metadata": {},
   "outputs": [
    {
     "data": {
      "text/plain": [
       "array([[   0,    0,    0,    0,    0,    0,    0,    0,    0,    0,   75],\n",
       "       [   0,    0,    0,    0,    0,    0,    0,    0,    0,    0,   40],\n",
       "       [   0,    0,    0,    0,    0,    0,    0,    0,    0,    0,   39],\n",
       "       [   0,    0,    0,    0,    0,    0,    0,    0,    0,    0, 2120],\n",
       "       [   0,    0,    0,    0,    0,    0,    0,    0,    0,    0,  526],\n",
       "       [   0,    0,    0,    0,    0,    0,    0,    0,    0,    0,    2],\n",
       "       [   0,    0,    0,    0,    0,    0,    0,    0,    0,    0,    3],\n",
       "       [   0,    0,    0,    0,    0,    0,    0,    0,    0,    0,    3],\n",
       "       [   0,    0,    0,    0,    0,    0,    0,    0,    0,    0,    4],\n",
       "       [   0,    0,    0,    0,    0,    0,    0,    0,    0,    0, 2104],\n",
       "       [   0,    0,    0,    0,    0,    0,    0,    0,    0,    0, 2926]],\n",
       "      dtype=int64)"
      ]
     },
     "execution_count": 36,
     "metadata": {},
     "output_type": "execute_result"
    }
   ],
   "source": [
    "metrics.confusion_matrix(y_Test,predictions2)"
   ]
  },
  {
   "cell_type": "code",
   "execution_count": 34,
   "id": "818bb943",
   "metadata": {},
   "outputs": [
    {
     "data": {
      "text/plain": [
       "7842"
      ]
     },
     "execution_count": 34,
     "metadata": {},
     "output_type": "execute_result"
    }
   ],
   "source": [
    "metrics.confusion_matrix(y_Test,predictions2).sum()"
   ]
  },
  {
   "cell_type": "markdown",
   "id": "1a1a8b3d",
   "metadata": {},
   "source": [
    "## RandomForestClassifier"
   ]
  },
  {
   "cell_type": "code",
   "execution_count": 54,
   "id": "776a2db2",
   "metadata": {},
   "outputs": [
    {
     "data": {
      "text/plain": [
       "0.9553685284366233"
      ]
     },
     "execution_count": 54,
     "metadata": {},
     "output_type": "execute_result"
    }
   ],
   "source": [
    "from sklearn.ensemble import RandomForestClassifier\n",
    "\n",
    "model3 = RandomForestClassifier(n_estimators=49)\n",
    "model3.fit(X_Train,y_Train)\n",
    "predictions3=model3.predict(X_Test)\n",
    "\n",
    "metrics.accuracy_score(predictions3,y_Test)"
   ]
  },
  {
   "cell_type": "code",
   "execution_count": 55,
   "id": "cff9856d",
   "metadata": {},
   "outputs": [
    {
     "data": {
      "text/plain": [
       "(7842,)"
      ]
     },
     "execution_count": 55,
     "metadata": {},
     "output_type": "execute_result"
    }
   ],
   "source": [
    "predictions3.shape"
   ]
  },
  {
   "cell_type": "code",
   "execution_count": 56,
   "id": "44c91b76",
   "metadata": {},
   "outputs": [
    {
     "data": {
      "text/plain": [
       "array([' EX'], dtype=object)"
      ]
     },
     "execution_count": 56,
     "metadata": {},
     "output_type": "execute_result"
    }
   ],
   "source": [
    "prediction = model.predict([ ['19600820','1800','75','-999','-999','-999','-999','-999','-999','-999','-999','-999','-999','-999','-999','-999']])\n",
    "prediction"
   ]
  },
  {
   "cell_type": "markdown",
   "id": "a1dd7749",
   "metadata": {},
   "source": [
    "### GridSEarchCV "
   ]
  },
  {
   "cell_type": "code",
   "execution_count": 57,
   "id": "a429c942",
   "metadata": {},
   "outputs": [],
   "source": [
    "from sklearn.model_selection import GridSearchCV\n",
    "tuned_params = [{'n_estimators':range(1,100)}]"
   ]
  },
  {
   "cell_type": "code",
   "execution_count": 58,
   "id": "69b306fd",
   "metadata": {},
   "outputs": [
    {
     "data": {
      "text/plain": [
       "0.9561336393777098"
      ]
     },
     "execution_count": 58,
     "metadata": {},
     "output_type": "execute_result"
    }
   ],
   "source": [
    "model4 = GridSearchCV(RandomForestClassifier(),tuned_params)\n",
    "model4.fit(X_Train,y_Train)\n",
    "predictions4=model4.predict(X_Test)\n",
    "\n",
    "metrics.accuracy_score(predictions4,y_Test)"
   ]
  },
  {
   "cell_type": "code",
   "execution_count": 59,
   "id": "d0c6bdb4",
   "metadata": {},
   "outputs": [
    {
     "data": {
      "text/html": [
       "<style>#sk-container-id-1 {color: black;background-color: white;}#sk-container-id-1 pre{padding: 0;}#sk-container-id-1 div.sk-toggleable {background-color: white;}#sk-container-id-1 label.sk-toggleable__label {cursor: pointer;display: block;width: 100%;margin-bottom: 0;padding: 0.3em;box-sizing: border-box;text-align: center;}#sk-container-id-1 label.sk-toggleable__label-arrow:before {content: \"▸\";float: left;margin-right: 0.25em;color: #696969;}#sk-container-id-1 label.sk-toggleable__label-arrow:hover:before {color: black;}#sk-container-id-1 div.sk-estimator:hover label.sk-toggleable__label-arrow:before {color: black;}#sk-container-id-1 div.sk-toggleable__content {max-height: 0;max-width: 0;overflow: hidden;text-align: left;background-color: #f0f8ff;}#sk-container-id-1 div.sk-toggleable__content pre {margin: 0.2em;color: black;border-radius: 0.25em;background-color: #f0f8ff;}#sk-container-id-1 input.sk-toggleable__control:checked~div.sk-toggleable__content {max-height: 200px;max-width: 100%;overflow: auto;}#sk-container-id-1 input.sk-toggleable__control:checked~label.sk-toggleable__label-arrow:before {content: \"▾\";}#sk-container-id-1 div.sk-estimator input.sk-toggleable__control:checked~label.sk-toggleable__label {background-color: #d4ebff;}#sk-container-id-1 div.sk-label input.sk-toggleable__control:checked~label.sk-toggleable__label {background-color: #d4ebff;}#sk-container-id-1 input.sk-hidden--visually {border: 0;clip: rect(1px 1px 1px 1px);clip: rect(1px, 1px, 1px, 1px);height: 1px;margin: -1px;overflow: hidden;padding: 0;position: absolute;width: 1px;}#sk-container-id-1 div.sk-estimator {font-family: monospace;background-color: #f0f8ff;border: 1px dotted black;border-radius: 0.25em;box-sizing: border-box;margin-bottom: 0.5em;}#sk-container-id-1 div.sk-estimator:hover {background-color: #d4ebff;}#sk-container-id-1 div.sk-parallel-item::after {content: \"\";width: 100%;border-bottom: 1px solid gray;flex-grow: 1;}#sk-container-id-1 div.sk-label:hover label.sk-toggleable__label {background-color: #d4ebff;}#sk-container-id-1 div.sk-serial::before {content: \"\";position: absolute;border-left: 1px solid gray;box-sizing: border-box;top: 0;bottom: 0;left: 50%;z-index: 0;}#sk-container-id-1 div.sk-serial {display: flex;flex-direction: column;align-items: center;background-color: white;padding-right: 0.2em;padding-left: 0.2em;position: relative;}#sk-container-id-1 div.sk-item {position: relative;z-index: 1;}#sk-container-id-1 div.sk-parallel {display: flex;align-items: stretch;justify-content: center;background-color: white;position: relative;}#sk-container-id-1 div.sk-item::before, #sk-container-id-1 div.sk-parallel-item::before {content: \"\";position: absolute;border-left: 1px solid gray;box-sizing: border-box;top: 0;bottom: 0;left: 50%;z-index: -1;}#sk-container-id-1 div.sk-parallel-item {display: flex;flex-direction: column;z-index: 1;position: relative;background-color: white;}#sk-container-id-1 div.sk-parallel-item:first-child::after {align-self: flex-end;width: 50%;}#sk-container-id-1 div.sk-parallel-item:last-child::after {align-self: flex-start;width: 50%;}#sk-container-id-1 div.sk-parallel-item:only-child::after {width: 0;}#sk-container-id-1 div.sk-dashed-wrapped {border: 1px dashed gray;margin: 0 0.4em 0.5em 0.4em;box-sizing: border-box;padding-bottom: 0.4em;background-color: white;}#sk-container-id-1 div.sk-label label {font-family: monospace;font-weight: bold;display: inline-block;line-height: 1.2em;}#sk-container-id-1 div.sk-label-container {text-align: center;}#sk-container-id-1 div.sk-container {/* jupyter's `normalize.less` sets `[hidden] { display: none; }` but bootstrap.min.css set `[hidden] { display: none !important; }` so we also need the `!important` here to be able to override the default hidden behavior on the sphinx rendered scikit-learn.org. See: https://github.com/scikit-learn/scikit-learn/issues/21755 */display: inline-block !important;position: relative;}#sk-container-id-1 div.sk-text-repr-fallback {display: none;}</style><div id=\"sk-container-id-1\" class=\"sk-top-container\"><div class=\"sk-text-repr-fallback\"><pre>RandomForestClassifier(n_estimators=11)</pre><b>In a Jupyter environment, please rerun this cell to show the HTML representation or trust the notebook. <br />On GitHub, the HTML representation is unable to render, please try loading this page with nbviewer.org.</b></div><div class=\"sk-container\" hidden><div class=\"sk-item\"><div class=\"sk-estimator sk-toggleable\"><input class=\"sk-toggleable__control sk-hidden--visually\" id=\"sk-estimator-id-1\" type=\"checkbox\" checked><label for=\"sk-estimator-id-1\" class=\"sk-toggleable__label sk-toggleable__label-arrow\">RandomForestClassifier</label><div class=\"sk-toggleable__content\"><pre>RandomForestClassifier(n_estimators=11)</pre></div></div></div></div></div>"
      ],
      "text/plain": [
       "RandomForestClassifier(n_estimators=11)"
      ]
     },
     "execution_count": 59,
     "metadata": {},
     "output_type": "execute_result"
    }
   ],
   "source": [
    "model4.best_estimator_"
   ]
  },
  {
   "cell_type": "code",
   "execution_count": 60,
   "id": "622eb8fe",
   "metadata": {},
   "outputs": [
    {
     "data": {
      "text/plain": [
       "0.9597704290789834"
      ]
     },
     "execution_count": 60,
     "metadata": {},
     "output_type": "execute_result"
    }
   ],
   "source": [
    "model4.best_score_"
   ]
  },
  {
   "cell_type": "markdown",
   "id": "f1185746",
   "metadata": {},
   "source": [
    "### RandomSearchCV"
   ]
  },
  {
   "cell_type": "code",
   "execution_count": 61,
   "id": "7d5ca47e",
   "metadata": {},
   "outputs": [],
   "source": [
    "from sklearn.model_selection import RandomizedSearchCV\n",
    "tuned_params = [{'n_estimators':range(1,100)}]"
   ]
  },
  {
   "cell_type": "code",
   "execution_count": 62,
   "id": "1433cfd3",
   "metadata": {},
   "outputs": [
    {
     "data": {
      "text/plain": [
       "0.9544758990053558"
      ]
     },
     "execution_count": 62,
     "metadata": {},
     "output_type": "execute_result"
    }
   ],
   "source": [
    "model5 = RandomizedSearchCV(RandomForestClassifier(),param_distributions=tuned_params,n_iter=10,scoring='accuracy')\n",
    "model5.fit(X_Train,y_Train)\n",
    "predictions5=model5.predict(X_Test)\n",
    "\n",
    "metrics.accuracy_score(predictions5,y_Test)"
   ]
  },
  {
   "cell_type": "code",
   "execution_count": 63,
   "id": "9c4db4b9",
   "metadata": {},
   "outputs": [
    {
     "data": {
      "text/html": [
       "<style>#sk-container-id-2 {color: black;background-color: white;}#sk-container-id-2 pre{padding: 0;}#sk-container-id-2 div.sk-toggleable {background-color: white;}#sk-container-id-2 label.sk-toggleable__label {cursor: pointer;display: block;width: 100%;margin-bottom: 0;padding: 0.3em;box-sizing: border-box;text-align: center;}#sk-container-id-2 label.sk-toggleable__label-arrow:before {content: \"▸\";float: left;margin-right: 0.25em;color: #696969;}#sk-container-id-2 label.sk-toggleable__label-arrow:hover:before {color: black;}#sk-container-id-2 div.sk-estimator:hover label.sk-toggleable__label-arrow:before {color: black;}#sk-container-id-2 div.sk-toggleable__content {max-height: 0;max-width: 0;overflow: hidden;text-align: left;background-color: #f0f8ff;}#sk-container-id-2 div.sk-toggleable__content pre {margin: 0.2em;color: black;border-radius: 0.25em;background-color: #f0f8ff;}#sk-container-id-2 input.sk-toggleable__control:checked~div.sk-toggleable__content {max-height: 200px;max-width: 100%;overflow: auto;}#sk-container-id-2 input.sk-toggleable__control:checked~label.sk-toggleable__label-arrow:before {content: \"▾\";}#sk-container-id-2 div.sk-estimator input.sk-toggleable__control:checked~label.sk-toggleable__label {background-color: #d4ebff;}#sk-container-id-2 div.sk-label input.sk-toggleable__control:checked~label.sk-toggleable__label {background-color: #d4ebff;}#sk-container-id-2 input.sk-hidden--visually {border: 0;clip: rect(1px 1px 1px 1px);clip: rect(1px, 1px, 1px, 1px);height: 1px;margin: -1px;overflow: hidden;padding: 0;position: absolute;width: 1px;}#sk-container-id-2 div.sk-estimator {font-family: monospace;background-color: #f0f8ff;border: 1px dotted black;border-radius: 0.25em;box-sizing: border-box;margin-bottom: 0.5em;}#sk-container-id-2 div.sk-estimator:hover {background-color: #d4ebff;}#sk-container-id-2 div.sk-parallel-item::after {content: \"\";width: 100%;border-bottom: 1px solid gray;flex-grow: 1;}#sk-container-id-2 div.sk-label:hover label.sk-toggleable__label {background-color: #d4ebff;}#sk-container-id-2 div.sk-serial::before {content: \"\";position: absolute;border-left: 1px solid gray;box-sizing: border-box;top: 0;bottom: 0;left: 50%;z-index: 0;}#sk-container-id-2 div.sk-serial {display: flex;flex-direction: column;align-items: center;background-color: white;padding-right: 0.2em;padding-left: 0.2em;position: relative;}#sk-container-id-2 div.sk-item {position: relative;z-index: 1;}#sk-container-id-2 div.sk-parallel {display: flex;align-items: stretch;justify-content: center;background-color: white;position: relative;}#sk-container-id-2 div.sk-item::before, #sk-container-id-2 div.sk-parallel-item::before {content: \"\";position: absolute;border-left: 1px solid gray;box-sizing: border-box;top: 0;bottom: 0;left: 50%;z-index: -1;}#sk-container-id-2 div.sk-parallel-item {display: flex;flex-direction: column;z-index: 1;position: relative;background-color: white;}#sk-container-id-2 div.sk-parallel-item:first-child::after {align-self: flex-end;width: 50%;}#sk-container-id-2 div.sk-parallel-item:last-child::after {align-self: flex-start;width: 50%;}#sk-container-id-2 div.sk-parallel-item:only-child::after {width: 0;}#sk-container-id-2 div.sk-dashed-wrapped {border: 1px dashed gray;margin: 0 0.4em 0.5em 0.4em;box-sizing: border-box;padding-bottom: 0.4em;background-color: white;}#sk-container-id-2 div.sk-label label {font-family: monospace;font-weight: bold;display: inline-block;line-height: 1.2em;}#sk-container-id-2 div.sk-label-container {text-align: center;}#sk-container-id-2 div.sk-container {/* jupyter's `normalize.less` sets `[hidden] { display: none; }` but bootstrap.min.css set `[hidden] { display: none !important; }` so we also need the `!important` here to be able to override the default hidden behavior on the sphinx rendered scikit-learn.org. See: https://github.com/scikit-learn/scikit-learn/issues/21755 */display: inline-block !important;position: relative;}#sk-container-id-2 div.sk-text-repr-fallback {display: none;}</style><div id=\"sk-container-id-2\" class=\"sk-top-container\"><div class=\"sk-text-repr-fallback\"><pre>RandomForestClassifier(n_estimators=89)</pre><b>In a Jupyter environment, please rerun this cell to show the HTML representation or trust the notebook. <br />On GitHub, the HTML representation is unable to render, please try loading this page with nbviewer.org.</b></div><div class=\"sk-container\" hidden><div class=\"sk-item\"><div class=\"sk-estimator sk-toggleable\"><input class=\"sk-toggleable__control sk-hidden--visually\" id=\"sk-estimator-id-2\" type=\"checkbox\" checked><label for=\"sk-estimator-id-2\" class=\"sk-toggleable__label sk-toggleable__label-arrow\">RandomForestClassifier</label><div class=\"sk-toggleable__content\"><pre>RandomForestClassifier(n_estimators=89)</pre></div></div></div></div></div>"
      ],
      "text/plain": [
       "RandomForestClassifier(n_estimators=89)"
      ]
     },
     "execution_count": 63,
     "metadata": {},
     "output_type": "execute_result"
    }
   ],
   "source": [
    "model5.best_estimator_"
   ]
  },
  {
   "cell_type": "code",
   "execution_count": 64,
   "id": "43ae1460",
   "metadata": {},
   "outputs": [
    {
     "data": {
      "text/plain": [
       "{'n_estimators': 89}"
      ]
     },
     "execution_count": 64,
     "metadata": {},
     "output_type": "execute_result"
    }
   ],
   "source": [
    "model5.best_params_"
   ]
  },
  {
   "cell_type": "code",
   "execution_count": 65,
   "id": "ab214d02",
   "metadata": {},
   "outputs": [
    {
     "data": {
      "text/plain": [
       "0.9596064498496857"
      ]
     },
     "execution_count": 65,
     "metadata": {},
     "output_type": "execute_result"
    }
   ],
   "source": [
    "model5.best_score_"
   ]
  },
  {
   "cell_type": "code",
   "execution_count": null,
   "id": "2856c3b1",
   "metadata": {},
   "outputs": [],
   "source": []
  }
 ],
 "metadata": {
  "kernelspec": {
   "display_name": "Python 3 (ipykernel)",
   "language": "python",
   "name": "python3"
  },
  "language_info": {
   "codemirror_mode": {
    "name": "ipython",
    "version": 3
   },
   "file_extension": ".py",
   "mimetype": "text/x-python",
   "name": "python",
   "nbconvert_exporter": "python",
   "pygments_lexer": "ipython3",
   "version": "3.10.6"
  }
 },
 "nbformat": 4,
 "nbformat_minor": 5
}
