{
 "cells": [
  {
   "cell_type": "code",
   "execution_count": null,
   "id": "f2539e78",
   "metadata": {},
   "outputs": [],
   "source": [
    "1. Let’s attempt to predict the survival of a horse based on various observed medical conditions. \n",
    "Load the data from ‘horses.csv’ and observe whether it contains missing values.\n",
    "[Hint: Pandas dataframe has a method isnull]"
   ]
  },
  {
   "cell_type": "code",
   "execution_count": 36,
   "id": "67e22cb2",
   "metadata": {},
   "outputs": [
    {
     "name": "stdout",
     "output_type": "stream",
     "text": [
      "<class 'pandas.core.frame.DataFrame'>\n",
      "RangeIndex: 299 entries, 0 to 298\n",
      "Data columns (total 28 columns):\n",
      " #   Column                 Non-Null Count  Dtype  \n",
      "---  ------                 --------------  -----  \n",
      " 0   surgery                299 non-null    object \n",
      " 1   age                    299 non-null    object \n",
      " 2   hospital_number        299 non-null    int64  \n",
      " 3   rectal_temp            239 non-null    float64\n",
      " 4   pulse                  275 non-null    float64\n",
      " 5   respiratory_rate       241 non-null    float64\n",
      " 6   temp_of_extremities    243 non-null    object \n",
      " 7   peripheral_pulse       230 non-null    object \n",
      " 8   mucous_membrane        252 non-null    object \n",
      " 9   capillary_refill_time  267 non-null    object \n",
      " 10  pain                   244 non-null    object \n",
      " 11  peristalsis            255 non-null    object \n",
      " 12  abdominal_distention   243 non-null    object \n",
      " 13  nasogastric_tube       195 non-null    object \n",
      " 14  nasogastric_reflux     193 non-null    object \n",
      " 15  nasogastric_reflux_ph  53 non-null     float64\n",
      " 16  rectal_exam_feces      197 non-null    object \n",
      " 17  abdomen                181 non-null    object \n",
      " 18  packed_cell_volume     270 non-null    float64\n",
      " 19  total_protein          266 non-null    float64\n",
      " 20  abdomo_appearance      134 non-null    object \n",
      " 21  abdomo_protein         101 non-null    float64\n",
      " 22  outcome                299 non-null    object \n",
      " 23  surgical_lesion        299 non-null    object \n",
      " 24  lesion_1               299 non-null    int64  \n",
      " 25  lesion_2               299 non-null    int64  \n",
      " 26  lesion_3               299 non-null    int64  \n",
      " 27  cp_data                299 non-null    object \n",
      "dtypes: float64(7), int64(4), object(17)\n",
      "memory usage: 65.5+ KB\n"
     ]
    }
   ],
   "source": [
    "import pandas as pd\n",
    "import numpy as np\n",
    "\n",
    "horses = pd.read_csv('horse.csv')\n",
    "horses.info()"
   ]
  },
  {
   "cell_type": "code",
   "execution_count": null,
   "id": "9e05ed91",
   "metadata": {},
   "outputs": [],
   "source": [
    "2. This dataset contains many categorical features, replace them with label encoding.\n",
    "[Hint: Refer to get_dummies methods in pandas dataframe or Label encoder in scikit-learn]"
   ]
  },
  {
   "cell_type": "code",
   "execution_count": 40,
   "id": "2003bfba",
   "metadata": {},
   "outputs": [],
   "source": [
    "from sklearn.preprocessing import LabelEncoder\n",
    "\n",
    "Le = LabelEncoder()\n",
    "horses['surgery']=Le.fit_transform(horses['surgery'])\n",
    "horses['age']=Le.fit_transform(horses['age'])\n",
    "horses['temp_of_extremities']=Le.fit_transform(horses['temp_of_extremities'])\n",
    "horses['peripheral_pulse']=Le.fit_transform(horses['peripheral_pulse'])\n",
    "horses['mucous_membrane']=Le.fit_transform(horses['mucous_membrane'])\n",
    "horses['capillary_refill_time']=Le.fit_transform(horses['capillary_refill_time'])\n",
    "horses['pain']=Le.fit_transform(horses['pain'])\n",
    "horses['peristalsis']=Le.fit_transform(horses['peristalsis'])\n",
    "horses['abdominal_distention']=Le.fit_transform(horses['abdominal_distention'])\n",
    "horses['nasogastric_tube']=Le.fit_transform(horses['nasogastric_tube'])\n",
    "horses['nasogastric_reflux']=Le.fit_transform(horses['nasogastric_reflux'])\n",
    "horses['nasogastric_reflux_ph']=Le.fit_transform(horses['nasogastric_reflux_ph'])\n",
    "horses['rectal_exam_feces']=Le.fit_transform(horses['rectal_exam_feces'])\n",
    "horses['abdomen']=Le.fit_transform(horses['abdomen'])\n",
    "horses['abdomo_appearance']=Le.fit_transform(horses['abdomo_appearance'])\n",
    "horses['outcome']=Le.fit_transform(horses['outcome'])\n",
    "horses['surgical_lesion']=Le.fit_transform(horses['surgical_lesion'])\n",
    "horses['cp_data']=Le.fit_transform(horses['cp_data'])\n"
   ]
  },
  {
   "cell_type": "code",
   "execution_count": 35,
   "id": "75ca3249",
   "metadata": {},
   "outputs": [],
   "source": [
    "#pd.get_dummies(horses).info()"
   ]
  },
  {
   "cell_type": "code",
   "execution_count": null,
   "id": "0e9ce5f4",
   "metadata": {},
   "outputs": [],
   "source": [
    "3. Replace the missing values by the most frequent value in each column.\n",
    "[Hint: Refer to Imputer class in Scikit learn preprocessing module]\n"
   ]
  },
  {
   "cell_type": "code",
   "execution_count": 47,
   "id": "398517d9",
   "metadata": {},
   "outputs": [],
   "source": [
    "#dropping the 'hospital_number' as it is not necessary\n",
    "horses.drop('hospital_number',axis=1,inplace=True)"
   ]
  },
  {
   "cell_type": "code",
   "execution_count": 53,
   "id": "06d458f2",
   "metadata": {},
   "outputs": [],
   "source": [
    "#impute NaN values with median\n",
    "from sklearn.impute import SimpleImputer\n",
    "\n",
    "imp = SimpleImputer(missing_values=np.nan, strategy='median')\n",
    "idf = pd.DataFrame(imp.fit_transform(horses))\n",
    "idf.columns=horses.columns\n"
   ]
  },
  {
   "cell_type": "code",
   "execution_count": null,
   "id": "2dd95aab",
   "metadata": {},
   "outputs": [],
   "source": [
    "4. Fit a decision tree classifier and observe the accuracy."
   ]
  },
  {
   "cell_type": "code",
   "execution_count": 60,
   "id": "c36266cb",
   "metadata": {},
   "outputs": [
    {
     "name": "stdout",
     "output_type": "stream",
     "text": [
      "Accuracy is 1.0\n"
     ]
    }
   ],
   "source": [
    "from sklearn.tree import DecisionTreeClassifier\n",
    "X_Cols = idf.columns.drop('outcome')\n",
    "\n",
    "model = DecisionTreeClassifier()\n",
    "model.fit(idf[X_Cols],idf[['outcome']])\n",
    "predictions = model.predict(idf[X_Cols])\n",
    "\n",
    "from sklearn import metrics\n",
    "print(\"Accuracy is\",metrics.accuracy_score(predictions,idf[['outcome']]))\n"
   ]
  },
  {
   "cell_type": "code",
   "execution_count": null,
   "id": "3147d0d1",
   "metadata": {},
   "outputs": [],
   "source": [
    "5. Fit a random forest classifier and observe the accuracy."
   ]
  },
  {
   "cell_type": "code",
   "execution_count": 69,
   "id": "af9919d1",
   "metadata": {},
   "outputs": [
    {
     "name": "stdout",
     "output_type": "stream",
     "text": [
      "Accuracy is 1.0\n"
     ]
    }
   ],
   "source": [
    "from sklearn.ensemble import RandomForestClassifier\n",
    "X_Cols = idf.columns.drop('outcome')\n",
    "\n",
    "model2 = RandomForestClassifier(criterion='log_loss')\n",
    "model2.fit(idf[X_Cols],idf['outcome'])\n",
    "predictions2 = model2.predict(idf[X_Cols])\n",
    "\n",
    "from sklearn import metrics\n",
    "print(\"Accuracy is\",metrics.accuracy_score(predictions2,idf[['outcome']],))"
   ]
  },
  {
   "cell_type": "code",
   "execution_count": null,
   "id": "ec2672d9",
   "metadata": {},
   "outputs": [],
   "source": []
  }
 ],
 "metadata": {
  "kernelspec": {
   "display_name": "Python 3 (ipykernel)",
   "language": "python",
   "name": "python3"
  },
  "language_info": {
   "codemirror_mode": {
    "name": "ipython",
    "version": 3
   },
   "file_extension": ".py",
   "mimetype": "text/x-python",
   "name": "python",
   "nbconvert_exporter": "python",
   "pygments_lexer": "ipython3",
   "version": "3.10.6"
  }
 },
 "nbformat": 4,
 "nbformat_minor": 5
}
